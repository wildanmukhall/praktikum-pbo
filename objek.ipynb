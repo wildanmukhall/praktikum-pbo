{
  "nbformat": 4,
  "nbformat_minor": 0,
  "metadata": {
    "colab": {
      "provenance": [],
      "authorship_tag": "ABX9TyOCSS/DuxT5lxT+qAlSEK2J",
      "include_colab_link": true
    },
    "kernelspec": {
      "name": "python3",
      "display_name": "Python 3"
    },
    "language_info": {
      "name": "python"
    }
  },
  "cells": [
    {
      "cell_type": "markdown",
      "metadata": {
        "id": "view-in-github",
        "colab_type": "text"
      },
      "source": [
        "<a href=\"https://colab.research.google.com/github/wildanmukhall/praktikum-pbo/blob/main/objek.ipynb\" target=\"_parent\"><img src=\"https://colab.research.google.com/assets/colab-badge.svg\" alt=\"Open In Colab\"/></a>"
      ]
    },
    {
      "cell_type": "code",
      "execution_count": null,
      "metadata": {
        "id": "lHsr9uzMmGic"
      },
      "outputs": [],
      "source": [
        "class Dog:\n",
        "    species = \"Canine\"  # Class attribute\n",
        "\n",
        "    def __init__(self, name, age):\n",
        "        self.name = name  # Instance attribute\n",
        "        self.age = age  # Instance attribute\n",
        "\n",
        "# Creating an object of the Dog class\n",
        "dog1 = Dog(\"Buddy\", 3)\n",
        "dog2 = Dog (\"husky\", 2)\n",
        "\n",
        "print(dog1.name)\n",
        "print(dog1.species)\n",
        "print(dog2.name,dog2.age)\n",
        "print(dog2.species)\n",
        "dog2.age = \"17\"\n",
        "print(dog2.age)\n",
        "dog1.species = \"amfibi\"\n",
        "print(dog1.species)\n"
      ]
    }
  ]
}